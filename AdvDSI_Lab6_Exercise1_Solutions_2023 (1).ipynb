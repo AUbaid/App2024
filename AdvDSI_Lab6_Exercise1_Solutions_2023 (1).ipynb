{
  "cells": [
    {
      "cell_type": "markdown",
      "metadata": {
        "id": "uQ6wc2HE0pke"
      },
      "source": [
        "# **Lab: Model Deployment**\n",
        "\n"
      ]
    },
    {
      "cell_type": "markdown",
      "metadata": {
        "id": "tQgxLRrvjiJb"
      },
      "source": [
        "## Exercise 1: Sklearn Pipeline\n",
        "\n",
        "In this exercise, we will build a pipeline for transforming input data and build a Gaussian Mixture Model. We will be woking on the Mall Customer dataset:\n",
        "\n",
        "The steps are:\n",
        "1.   Setup Repository\n",
        "2.   Load and Explore Dataset\n",
        "3.   Prepare Data\n",
        "4.   Gaussian Mixture Model\n",
        "5.   Build Pipeline\n",
        "6.   Push Changes\n"
      ]
    },
    {
      "cell_type": "markdown",
      "metadata": {
        "id": "smh_LhVjIg9s"
      },
      "source": [
        "### 1. Setup Repository"
      ]
    },
    {
      "cell_type": "markdown",
      "metadata": {
        "id": "_NCwQQFkU3v5"
      },
      "source": [
        "### 2.   Load and Explore Dataset"
      ]
    },
    {
      "cell_type": "markdown",
      "metadata": {
        "id": "JAIO_Y5Z9_Ay"
      },
      "source": [
        "**[2.1]** Import the pandas and numpy packages"
      ]
    },
    {
      "cell_type": "code",
      "execution_count": null,
      "metadata": {
        "id": "SiroVmhn9_HP"
      },
      "outputs": [],
      "source": [
        "# Placeholder for student's code (3 lines of Python code)\n",
        "# Task: mport the pandas and numpy packages"
      ]
    },
    {
      "cell_type": "code",
      "execution_count": null,
      "metadata": {
        "id": "2VRE9JYD9_Kk"
      },
      "outputs": [],
      "source": [
        "#Solution\n",
        "import pandas as pd\n",
        "import numpy as np\n"
      ]
    },
    {
      "cell_type": "markdown",
      "metadata": {
        "id": "nbRDgod3_3Yv"
      },
      "source": [
        "**[2.4]** Create a variable called `file_url` containing th url to the raw dataset"
      ]
    },
    {
      "cell_type": "code",
      "execution_count": null,
      "metadata": {
        "id": "MLb163oq_3iR"
      },
      "outputs": [],
      "source": [
        "# Placeholder for student's code (1 line of Python code)\n",
        "# Task: Create a variable called file_url containing th url to the raw dataset"
      ]
    },
    {
      "cell_type": "code",
      "execution_count": null,
      "metadata": {
        "id": "gcaDN6V3_3q9"
      },
      "outputs": [],
      "source": [
        "#Solution\n",
        "file_url = 'Mall_Customers.csv'"
      ]
    },
    {
      "cell_type": "markdown",
      "metadata": {
        "id": "R-Zy6Oq8pkuB"
      },
      "source": [
        "**[2.5]** Load the data in a dataframe called `df`\n"
      ]
    },
    {
      "cell_type": "code",
      "execution_count": null,
      "metadata": {
        "id": "ZresJIasqpgH"
      },
      "outputs": [],
      "source": [
        "# Placeholder for student's code (1 line of Python code)\n",
        "# Task: Load the data in a dataframe called df"
      ]
    },
    {
      "cell_type": "code",
      "execution_count": null,
      "metadata": {
        "id": "Q1iETWjDftMg"
      },
      "outputs": [],
      "source": [
        "#Solution:\n",
        "df = pd.read_csv(file_url)"
      ]
    },
    {
      "cell_type": "markdown",
      "metadata": {
        "id": "CLyMcoNCsx2k"
      },
      "source": [
        "**[2.6]** Display the first 5 rows of df"
      ]
    },
    {
      "cell_type": "code",
      "execution_count": null,
      "metadata": {
        "id": "CJKSOaRPsbuD"
      },
      "outputs": [],
      "source": [
        "# Placeholder for student's code (1 line of Python code)\n",
        "# Task: Display the first 5 rows of df"
      ]
    },
    {
      "cell_type": "code",
      "execution_count": null,
      "metadata": {
        "colab": {
          "base_uri": "https://localhost:8080/",
          "height": 204
        },
        "id": "xvnbhiPhs0ZP",
        "outputId": "b9331f9d-3113-4be6-ac79-57c3214ad464"
      },
      "outputs": [
        {
          "data": {
            "text/html": [
              "<div>\n",
              "<style scoped>\n",
              "    .dataframe tbody tr th:only-of-type {\n",
              "        vertical-align: middle;\n",
              "    }\n",
              "\n",
              "    .dataframe tbody tr th {\n",
              "        vertical-align: top;\n",
              "    }\n",
              "\n",
              "    .dataframe thead th {\n",
              "        text-align: right;\n",
              "    }\n",
              "</style>\n",
              "<table border=\"1\" class=\"dataframe\">\n",
              "  <thead>\n",
              "    <tr style=\"text-align: right;\">\n",
              "      <th></th>\n",
              "      <th>CustomerID</th>\n",
              "      <th>Gender</th>\n",
              "      <th>Age</th>\n",
              "      <th>Annual Income (k$)</th>\n",
              "      <th>Spending Score (1-100)</th>\n",
              "    </tr>\n",
              "  </thead>\n",
              "  <tbody>\n",
              "    <tr>\n",
              "      <th>0</th>\n",
              "      <td>1</td>\n",
              "      <td>Male</td>\n",
              "      <td>19</td>\n",
              "      <td>15</td>\n",
              "      <td>39</td>\n",
              "    </tr>\n",
              "    <tr>\n",
              "      <th>1</th>\n",
              "      <td>2</td>\n",
              "      <td>Male</td>\n",
              "      <td>21</td>\n",
              "      <td>15</td>\n",
              "      <td>81</td>\n",
              "    </tr>\n",
              "    <tr>\n",
              "      <th>2</th>\n",
              "      <td>3</td>\n",
              "      <td>Female</td>\n",
              "      <td>20</td>\n",
              "      <td>16</td>\n",
              "      <td>6</td>\n",
              "    </tr>\n",
              "    <tr>\n",
              "      <th>3</th>\n",
              "      <td>4</td>\n",
              "      <td>Female</td>\n",
              "      <td>23</td>\n",
              "      <td>16</td>\n",
              "      <td>77</td>\n",
              "    </tr>\n",
              "    <tr>\n",
              "      <th>4</th>\n",
              "      <td>5</td>\n",
              "      <td>Female</td>\n",
              "      <td>31</td>\n",
              "      <td>17</td>\n",
              "      <td>40</td>\n",
              "    </tr>\n",
              "  </tbody>\n",
              "</table>\n",
              "</div>"
            ],
            "text/plain": [
              "   CustomerID  Gender  Age  Annual Income (k$)  Spending Score (1-100)\n",
              "0           1    Male   19                  15                      39\n",
              "1           2    Male   21                  15                      81\n",
              "2           3  Female   20                  16                       6\n",
              "3           4  Female   23                  16                      77\n",
              "4           5  Female   31                  17                      40"
            ]
          },
          "execution_count": 54,
          "metadata": {},
          "output_type": "execute_result"
        }
      ],
      "source": [
        "# Solution\n",
        "df.head()"
      ]
    },
    {
      "cell_type": "markdown",
      "metadata": {
        "id": "gQgeYjQDs12m"
      },
      "source": [
        "**[2.7]** Display the dimensions (shape) of df"
      ]
    },
    {
      "cell_type": "code",
      "execution_count": null,
      "metadata": {
        "id": "dOA7T87hs19l"
      },
      "outputs": [],
      "source": [
        "# Placeholder for student's code (1 line of Python code)\n",
        "# Task: Task: Display the dimensions (shape) of df"
      ]
    },
    {
      "cell_type": "code",
      "execution_count": null,
      "metadata": {
        "id": "Dg_89DlAs1_w",
        "outputId": "d9c5a958-6580-44b2-e5c9-1131ace7fed4"
      },
      "outputs": [
        {
          "data": {
            "text/plain": [
              "(200, 5)"
            ]
          },
          "execution_count": 56,
          "metadata": {},
          "output_type": "execute_result"
        }
      ],
      "source": [
        "# Solution\n",
        "df.shape"
      ]
    },
    {
      "cell_type": "markdown",
      "metadata": {
        "id": "xyle1PCws7B0"
      },
      "source": [
        "**[2.8]** Display the summary (info) of df"
      ]
    },
    {
      "cell_type": "code",
      "execution_count": null,
      "metadata": {
        "id": "RrNAGFzxs7JU"
      },
      "outputs": [],
      "source": [
        "# Placeholder for student's code (1 line of Python code)\n",
        "# Task: Display the summary (info) of df"
      ]
    },
    {
      "cell_type": "code",
      "execution_count": null,
      "metadata": {
        "id": "l1msvlh7s7Lt",
        "outputId": "d9f7e459-e964-4a37-b061-b130e8d9bbb3"
      },
      "outputs": [
        {
          "name": "stdout",
          "output_type": "stream",
          "text": [
            "<class 'pandas.core.frame.DataFrame'>\n",
            "RangeIndex: 200 entries, 0 to 199\n",
            "Data columns (total 5 columns):\n",
            " #   Column                  Non-Null Count  Dtype \n",
            "---  ------                  --------------  ----- \n",
            " 0   CustomerID              200 non-null    int64 \n",
            " 1   Gender                  200 non-null    object\n",
            " 2   Age                     200 non-null    int64 \n",
            " 3   Annual Income (k$)      200 non-null    int64 \n",
            " 4   Spending Score (1-100)  200 non-null    int64 \n",
            "dtypes: int64(4), object(1)\n",
            "memory usage: 7.9+ KB\n"
          ]
        }
      ],
      "source": [
        "# Solution\n",
        "df.info()"
      ]
    },
    {
      "cell_type": "markdown",
      "metadata": {
        "id": "eWLgqm2YtAgP"
      },
      "source": [
        "**[2.9]** Display the descriptive statistics of df\n"
      ]
    },
    {
      "cell_type": "code",
      "execution_count": null,
      "metadata": {
        "id": "2ZnOCCtjtAnj"
      },
      "outputs": [],
      "source": [
        "# Placeholder for student's code (1 line of Python code)\n",
        "# Task: Display the descriptive statictics of df"
      ]
    },
    {
      "cell_type": "code",
      "execution_count": null,
      "metadata": {
        "id": "FQLSaoXltAp-",
        "outputId": "fc143b79-ffd5-49b0-8e8d-c5979adcd237"
      },
      "outputs": [
        {
          "data": {
            "text/html": [
              "<div>\n",
              "<style scoped>\n",
              "    .dataframe tbody tr th:only-of-type {\n",
              "        vertical-align: middle;\n",
              "    }\n",
              "\n",
              "    .dataframe tbody tr th {\n",
              "        vertical-align: top;\n",
              "    }\n",
              "\n",
              "    .dataframe thead th {\n",
              "        text-align: right;\n",
              "    }\n",
              "</style>\n",
              "<table border=\"1\" class=\"dataframe\">\n",
              "  <thead>\n",
              "    <tr style=\"text-align: right;\">\n",
              "      <th></th>\n",
              "      <th>CustomerID</th>\n",
              "      <th>Age</th>\n",
              "      <th>Annual Income (k$)</th>\n",
              "      <th>Spending Score (1-100)</th>\n",
              "    </tr>\n",
              "  </thead>\n",
              "  <tbody>\n",
              "    <tr>\n",
              "      <th>count</th>\n",
              "      <td>200.000000</td>\n",
              "      <td>200.000000</td>\n",
              "      <td>200.000000</td>\n",
              "      <td>200.000000</td>\n",
              "    </tr>\n",
              "    <tr>\n",
              "      <th>mean</th>\n",
              "      <td>100.500000</td>\n",
              "      <td>38.850000</td>\n",
              "      <td>60.560000</td>\n",
              "      <td>50.200000</td>\n",
              "    </tr>\n",
              "    <tr>\n",
              "      <th>std</th>\n",
              "      <td>57.879185</td>\n",
              "      <td>13.969007</td>\n",
              "      <td>26.264721</td>\n",
              "      <td>25.823522</td>\n",
              "    </tr>\n",
              "    <tr>\n",
              "      <th>min</th>\n",
              "      <td>1.000000</td>\n",
              "      <td>18.000000</td>\n",
              "      <td>15.000000</td>\n",
              "      <td>1.000000</td>\n",
              "    </tr>\n",
              "    <tr>\n",
              "      <th>25%</th>\n",
              "      <td>50.750000</td>\n",
              "      <td>28.750000</td>\n",
              "      <td>41.500000</td>\n",
              "      <td>34.750000</td>\n",
              "    </tr>\n",
              "    <tr>\n",
              "      <th>50%</th>\n",
              "      <td>100.500000</td>\n",
              "      <td>36.000000</td>\n",
              "      <td>61.500000</td>\n",
              "      <td>50.000000</td>\n",
              "    </tr>\n",
              "    <tr>\n",
              "      <th>75%</th>\n",
              "      <td>150.250000</td>\n",
              "      <td>49.000000</td>\n",
              "      <td>78.000000</td>\n",
              "      <td>73.000000</td>\n",
              "    </tr>\n",
              "    <tr>\n",
              "      <th>max</th>\n",
              "      <td>200.000000</td>\n",
              "      <td>70.000000</td>\n",
              "      <td>137.000000</td>\n",
              "      <td>99.000000</td>\n",
              "    </tr>\n",
              "  </tbody>\n",
              "</table>\n",
              "</div>"
            ],
            "text/plain": [
              "       CustomerID         Age  Annual Income (k$)  Spending Score (1-100)\n",
              "count  200.000000  200.000000          200.000000              200.000000\n",
              "mean   100.500000   38.850000           60.560000               50.200000\n",
              "std     57.879185   13.969007           26.264721               25.823522\n",
              "min      1.000000   18.000000           15.000000                1.000000\n",
              "25%     50.750000   28.750000           41.500000               34.750000\n",
              "50%    100.500000   36.000000           61.500000               50.000000\n",
              "75%    150.250000   49.000000           78.000000               73.000000\n",
              "max    200.000000   70.000000          137.000000               99.000000"
            ]
          },
          "execution_count": 66,
          "metadata": {},
          "output_type": "execute_result"
        }
      ],
      "source": [
        "# Solution\n",
        "df.describe()"
      ]
    },
    {
      "cell_type": "markdown",
      "metadata": {
        "id": "3aWaMMzBBVC5"
      },
      "source": [
        "**[2.10]** Save the dataframe locally in the `data/raw` folder"
      ]
    },
    {
      "cell_type": "code",
      "execution_count": null,
      "metadata": {
        "id": "lLz5oN2KBVOB"
      },
      "outputs": [],
      "source": [
        "# Placeholder for student's code (1 line of Python code)\n",
        "# Save the dataframe locally in the data/raw folder"
      ]
    },
    {
      "cell_type": "code",
      "execution_count": null,
      "metadata": {
        "id": "WeiW3cRdBeUV"
      },
      "outputs": [],
      "source": [
        "# Solution\n",
        "#df.to_csv('../data/raw/Mall_Customers.csv', index=False)"
      ]
    },
    {
      "cell_type": "markdown",
      "metadata": {
        "id": "miQ6SiKlscLx"
      },
      "source": [
        "### 3. Prepare Data"
      ]
    },
    {
      "cell_type": "markdown",
      "metadata": {
        "id": "NtuF1V6ctwn-"
      },
      "source": [
        "**[3.1]** Create a copy of `df` and save it into a variable called `df_cleaned`"
      ]
    },
    {
      "cell_type": "code",
      "execution_count": null,
      "metadata": {
        "id": "Zqaz1C7DtwuU"
      },
      "outputs": [],
      "source": [
        "# Placeholder for student's code (1 line of Python code)\n",
        "# Task: Create a copy of df and save it into a variable called df_cleaned"
      ]
    },
    {
      "cell_type": "code",
      "execution_count": null,
      "metadata": {
        "id": "HrXR7NCLtwxB"
      },
      "outputs": [],
      "source": [
        "# Solution\n",
        "df_cleaned = df.copy()"
      ]
    },
    {
      "cell_type": "markdown",
      "metadata": {
        "id": "YjeBCJSBzPg7"
      },
      "source": [
        "**[3.2]** Drop the column `CustomerID` from the dataframe and save it into the `data/interim` folder"
      ]
    },
    {
      "cell_type": "code",
      "execution_count": null,
      "metadata": {
        "id": "kLBoIOTMzPpx"
      },
      "outputs": [],
      "source": [
        "# Placeholder for student's code (1 line of Python code)\n",
        "# Task: Drop the column CustomerID from the dataframe and save it into the data/interim folder"
      ]
    },
    {
      "cell_type": "code",
      "execution_count": null,
      "metadata": {
        "id": "vhvB1iC7zPr3"
      },
      "outputs": [],
      "source": [
        "# Solution\n",
        "df_cleaned.drop('CustomerID', axis=1, inplace=True)\n",
        "#df_cleaned.to_csv('../data/interim/Mall_Customers.csv', index=False)"
      ]
    },
    {
      "cell_type": "markdown",
      "metadata": {
        "id": "Cx4JAuiuzaIe"
      },
      "source": [
        "**[3.3]** Import `train_test_split` from `sklearn.model_selection`"
      ]
    },
    {
      "cell_type": "code",
      "execution_count": null,
      "metadata": {
        "id": "9F1r617azaTb"
      },
      "outputs": [],
      "source": [
        "# Placeholder for student's code (1 line of Python code)\n",
        "# Task: Import train_test_split from sklearn.model_selection"
      ]
    },
    {
      "cell_type": "code",
      "execution_count": null,
      "metadata": {
        "id": "OOefCMTLzaRQ"
      },
      "outputs": [],
      "source": [
        "# Solution\n",
        "from sklearn.model_selection import train_test_split"
      ]
    },
    {
      "cell_type": "markdown",
      "metadata": {
        "id": "X7DCMLV6TBjr"
      },
      "source": [
        "**[3.4]** Split the data into training and testing sets with 80-20 ratio"
      ]
    },
    {
      "cell_type": "code",
      "execution_count": null,
      "metadata": {
        "id": "KF8jX4Y7TBtB"
      },
      "outputs": [],
      "source": [
        "# Placeholder for student's code (1 line of Python code)\n",
        "# Task: Split the data into training and testing sets with 80-20 ratio"
      ]
    },
    {
      "cell_type": "code",
      "execution_count": null,
      "metadata": {
        "id": "ICjW0_-4TBvu"
      },
      "outputs": [],
      "source": [
        "# Solution\n",
        "X_train, X_test = train_test_split(df_cleaned, test_size=0.2, random_state=8)"
      ]
    },
    {
      "cell_type": "markdown",
      "metadata": {
        "id": "yvEl7w7GTWfL"
      },
      "source": [
        "**[3.5]** Create a copy of `X_train` and save it into a variable called `X_train_cleaned`"
      ]
    },
    {
      "cell_type": "code",
      "execution_count": null,
      "metadata": {
        "id": "RNU9-pDNTWnA"
      },
      "outputs": [],
      "source": [
        "# Placeholder for student's code (1 line of Python code)\n",
        "# Task: Create a copy of X_train and save it into a variable called X_train_cleaned"
      ]
    },
    {
      "cell_type": "code",
      "execution_count": null,
      "metadata": {
        "id": "Xuo9WuYhTWr4"
      },
      "outputs": [],
      "source": [
        "# Solution\n",
        "X_train_cleaned = X_train.copy()"
      ]
    },
    {
      "cell_type": "markdown",
      "metadata": {
        "id": "m1RrTCBRDybQ"
      },
      "source": [
        "**[3.6]** Import `StandardScaler` and `OneHotEncoder` from `sklearn.preprocessing`"
      ]
    },
    {
      "cell_type": "code",
      "execution_count": null,
      "metadata": {
        "id": "wtYjKp_1DyiT"
      },
      "outputs": [],
      "source": [
        "# Placeholder for student's code (1 line of Python code)\n",
        "# Task: Import StandardScaler and OneHotEncoder from sklearn.preprocessing"
      ]
    },
    {
      "cell_type": "code",
      "execution_count": null,
      "metadata": {
        "id": "aezRs9S3Dyl0"
      },
      "outputs": [],
      "source": [
        "# Solution\n",
        "from sklearn.preprocessing import StandardScaler, OneHotEncoder"
      ]
    },
    {
      "cell_type": "markdown",
      "metadata": {
        "id": "5pKaCxasERAt"
      },
      "source": [
        "**[3.7]** Create a list called `num_cols` that contains `Age`, `Annual Income (k$)` and `Spending Score (1-100)`"
      ]
    },
    {
      "cell_type": "code",
      "execution_count": null,
      "metadata": {
        "id": "qbqcA0Lg0Nqa"
      },
      "outputs": [],
      "source": [
        "# Placeholder for student's code (1 line of Python code)\n",
        "# Task: Create a list called num_cols that contains Age, Annual Income (k$) and Spending Score (1-100)"
      ]
    },
    {
      "cell_type": "code",
      "execution_count": null,
      "metadata": {
        "id": "yDwCmIXvERJO"
      },
      "outputs": [],
      "source": [
        "# Solution\n",
        "num_cols = ['Age', 'Annual Income (k$)', 'Spending Score (1-100)']"
      ]
    },
    {
      "cell_type": "markdown",
      "metadata": {
        "id": "-l0Hkri1FVrv"
      },
      "source": [
        "**[3.8]** Instantiate a `StandardScaler` and called it `sc`"
      ]
    },
    {
      "cell_type": "code",
      "execution_count": null,
      "metadata": {
        "id": "-f6eVl84FVy_"
      },
      "outputs": [],
      "source": [
        "# Placeholder for student's code (1 line of Python code)\n",
        "# Task: Instantiate a StandardScaler and called it sc"
      ]
    },
    {
      "cell_type": "code",
      "execution_count": null,
      "metadata": {
        "id": "x_yCjMqgFV1u"
      },
      "outputs": [],
      "source": [
        "# Solution\n",
        "sc = StandardScaler()"
      ]
    },
    {
      "cell_type": "markdown",
      "metadata": {
        "id": "w2v1vLMWTofp"
      },
      "source": [
        "**[3.9]** Fit and transform the numeric feature of `X_train_cleaned` and replace the data into it"
      ]
    },
    {
      "cell_type": "code",
      "execution_count": null,
      "metadata": {
        "id": "BcTo7drqTom4"
      },
      "outputs": [],
      "source": [
        "# Placeholder for student's code (1 line of Python code)\n",
        "# Task: Fit and transform the numeric feature of X_train_cleaned and replace the data into it"
      ]
    },
    {
      "cell_type": "code",
      "execution_count": null,
      "metadata": {
        "id": "dfUpbRYSTopS"
      },
      "outputs": [],
      "source": [
        "# Solution\n",
        "X_train_cleaned[num_cols] = sc.fit_transform(X_train_cleaned[num_cols])"
      ]
    },
    {
      "cell_type": "markdown",
      "metadata": {
        "id": "lt8YYcHuTsDs"
      },
      "source": [
        "**[3.10]** Create a list called `cat_cols` that contains `Gender`"
      ]
    },
    {
      "cell_type": "code",
      "execution_count": null,
      "metadata": {
        "id": "0Fs5Lt8jTsLK"
      },
      "outputs": [],
      "source": [
        "# Placeholder for student's code (1 line of Python code)\n",
        "# Task: Create a list called cat_cols that contains Gender"
      ]
    },
    {
      "cell_type": "code",
      "execution_count": null,
      "metadata": {
        "id": "z6isEtGBTsNz"
      },
      "outputs": [],
      "source": [
        "# Solution\n",
        "cat_cols = ['Gender']"
      ]
    },
    {
      "cell_type": "markdown",
      "metadata": {
        "id": "qFGEj92zZKUX"
      },
      "source": [
        "**[3.11]** Instantiate a `OneHotEncoder` with `sparse=False` and `drop='first'` and save it to a variable called `ohe`"
      ]
    },
    {
      "cell_type": "code",
      "execution_count": null,
      "metadata": {
        "id": "hiwxa2PLZKb6"
      },
      "outputs": [],
      "source": [
        "# Placeholder for student's code (1 line of Python code)\n",
        "# Task: Instantiate a OneHotEncoder with sparse=False and drop='first' and save it to a variable called ohe"
      ]
    },
    {
      "cell_type": "code",
      "execution_count": null,
      "metadata": {
        "id": "HMSXXBBOZKfP"
      },
      "outputs": [],
      "source": [
        "# Solution\n",
        "ohe = OneHotEncoder(sparse=False, drop='first')"
      ]
    },
    {
      "cell_type": "markdown",
      "metadata": {
        "id": "DJSHphplGgjd"
      },
      "source": [
        "**[3.12]** Fit and transform the categorical feature of `X_train_cleaned` and replace the data into it"
      ]
    },
    {
      "cell_type": "code",
      "execution_count": null,
      "metadata": {
        "id": "y6_edJpBGgpk"
      },
      "outputs": [],
      "source": [
        "# Placeholder for student's code (1 line of Python code)\n",
        "# Task: Fit and transform the categorical feature of `X_train_cleaned` and replace the data into it"
      ]
    },
    {
      "cell_type": "code",
      "execution_count": null,
      "metadata": {
        "id": "B4p4isj8Ggr4"
      },
      "outputs": [],
      "source": [
        "# Solution\n",
        "X_train_cleaned[cat_cols] = ohe.fit_transform(X_train_cleaned[cat_cols])"
      ]
    },
    {
      "cell_type": "markdown",
      "metadata": {
        "id": "sXQCEL7aG0jp"
      },
      "source": [
        "**[3.13]** Reset the indexes of `X_train_cleaned`"
      ]
    },
    {
      "cell_type": "code",
      "execution_count": null,
      "metadata": {
        "id": "-WchTrcJG0qG"
      },
      "outputs": [],
      "source": [
        "# Placeholder for student's code (1 line of Python code)\n",
        "# Task: Reset the indexes of X_train_cleaned"
      ]
    },
    {
      "cell_type": "code",
      "execution_count": null,
      "metadata": {
        "id": "yFkJXP3oG02H"
      },
      "outputs": [],
      "source": [
        "# Solution\n",
        "X_train_cleaned.reset_index(drop=True, inplace=True)"
      ]
    },
    {
      "cell_type": "markdown",
      "metadata": {
        "id": "N8MNBrC4Zgz6"
      },
      "source": [
        "### 4. Gaussian Mixture Model"
      ]
    },
    {
      "cell_type": "markdown",
      "metadata": {
        "id": "3Lt1lE8lJ9zS"
      },
      "source": [
        "**[4.1]** Import `KElbowVisualizer` from `yellowbrick.cluster`\n",
        "`KMeans` from `sklearn.cluster`"
      ]
    },
    {
      "cell_type": "code",
      "execution_count": null,
      "metadata": {
        "id": "Kc6UHpDqJ96o"
      },
      "outputs": [],
      "source": [
        "# Placeholder for student's code (2 lines of Python code)\n",
        "# Task: Import KElbowVisualizer from yellowbrick.cluster KMeans from sklearn.cluster"
      ]
    },
    {
      "cell_type": "code",
      "execution_count": null,
      "metadata": {
        "id": "2xufkK8VJ99s"
      },
      "outputs": [],
      "source": [
        "# Solution\n",
        "from yellowbrick.cluster import KElbowVisualizer\n",
        "from sklearn.cluster import KMeans"
      ]
    },
    {
      "cell_type": "markdown",
      "metadata": {
        "id": "NFCSRIyMZuAR"
      },
      "source": [
        "**[4.2]** Instantiate a `KElbowVisualizer` with an instantied KMeans and k=(2, 15) and save it into a variable called `model`"
      ]
    },
    {
      "cell_type": "code",
      "execution_count": null,
      "metadata": {
        "id": "00BWv65bZg7C"
      },
      "outputs": [],
      "source": [
        "# Placeholder for student's code (1 line of Python code)\n",
        "# Task: Instantiate a KElbowVisualizer with an instantied KMeans and k=(2, 15) and save it into a variable called model"
      ]
    },
    {
      "cell_type": "code",
      "execution_count": null,
      "metadata": {
        "id": "Eejq-COGZhCP"
      },
      "outputs": [],
      "source": [
        "# Solution\n",
        "model = KElbowVisualizer(KMeans(), k=(2,15))"
      ]
    },
    {
      "cell_type": "markdown",
      "metadata": {
        "id": "sJNZfvA4dJ9X"
      },
      "source": [
        "**[4.3]** Fit `model` with `X_train_cleaned`"
      ]
    },
    {
      "cell_type": "code",
      "execution_count": null,
      "metadata": {
        "id": "Rdui0TivdKGE"
      },
      "outputs": [],
      "source": [
        "# Placeholder for student's code (1 line of Python code)\n",
        "# Task: Fit model with X_train_cleaned"
      ]
    },
    {
      "cell_type": "code",
      "execution_count": null,
      "metadata": {
        "id": "fev4FWAYdU1G",
        "outputId": "7a861328-b951-48dc-ca8b-85970117cf37"
      },
      "outputs": [
        {
          "data": {
            "text/html": [
              "<style>#sk-container-id-4 {color: black;}#sk-container-id-4 pre{padding: 0;}#sk-container-id-4 div.sk-toggleable {background-color: white;}#sk-container-id-4 label.sk-toggleable__label {cursor: pointer;display: block;width: 100%;margin-bottom: 0;padding: 0.3em;box-sizing: border-box;text-align: center;}#sk-container-id-4 label.sk-toggleable__label-arrow:before {content: \"▸\";float: left;margin-right: 0.25em;color: #696969;}#sk-container-id-4 label.sk-toggleable__label-arrow:hover:before {color: black;}#sk-container-id-4 div.sk-estimator:hover label.sk-toggleable__label-arrow:before {color: black;}#sk-container-id-4 div.sk-toggleable__content {max-height: 0;max-width: 0;overflow: hidden;text-align: left;background-color: #f0f8ff;}#sk-container-id-4 div.sk-toggleable__content pre {margin: 0.2em;color: black;border-radius: 0.25em;background-color: #f0f8ff;}#sk-container-id-4 input.sk-toggleable__control:checked~div.sk-toggleable__content {max-height: 200px;max-width: 100%;overflow: auto;}#sk-container-id-4 input.sk-toggleable__control:checked~label.sk-toggleable__label-arrow:before {content: \"▾\";}#sk-container-id-4 div.sk-estimator input.sk-toggleable__control:checked~label.sk-toggleable__label {background-color: #d4ebff;}#sk-container-id-4 div.sk-label input.sk-toggleable__control:checked~label.sk-toggleable__label {background-color: #d4ebff;}#sk-container-id-4 input.sk-hidden--visually {border: 0;clip: rect(1px 1px 1px 1px);clip: rect(1px, 1px, 1px, 1px);height: 1px;margin: -1px;overflow: hidden;padding: 0;position: absolute;width: 1px;}#sk-container-id-4 div.sk-estimator {font-family: monospace;background-color: #f0f8ff;border: 1px dotted black;border-radius: 0.25em;box-sizing: border-box;margin-bottom: 0.5em;}#sk-container-id-4 div.sk-estimator:hover {background-color: #d4ebff;}#sk-container-id-4 div.sk-parallel-item::after {content: \"\";width: 100%;border-bottom: 1px solid gray;flex-grow: 1;}#sk-container-id-4 div.sk-label:hover label.sk-toggleable__label {background-color: #d4ebff;}#sk-container-id-4 div.sk-serial::before {content: \"\";position: absolute;border-left: 1px solid gray;box-sizing: border-box;top: 0;bottom: 0;left: 50%;z-index: 0;}#sk-container-id-4 div.sk-serial {display: flex;flex-direction: column;align-items: center;background-color: white;padding-right: 0.2em;padding-left: 0.2em;position: relative;}#sk-container-id-4 div.sk-item {position: relative;z-index: 1;}#sk-container-id-4 div.sk-parallel {display: flex;align-items: stretch;justify-content: center;background-color: white;position: relative;}#sk-container-id-4 div.sk-item::before, #sk-container-id-4 div.sk-parallel-item::before {content: \"\";position: absolute;border-left: 1px solid gray;box-sizing: border-box;top: 0;bottom: 0;left: 50%;z-index: -1;}#sk-container-id-4 div.sk-parallel-item {display: flex;flex-direction: column;z-index: 1;position: relative;background-color: white;}#sk-container-id-4 div.sk-parallel-item:first-child::after {align-self: flex-end;width: 50%;}#sk-container-id-4 div.sk-parallel-item:last-child::after {align-self: flex-start;width: 50%;}#sk-container-id-4 div.sk-parallel-item:only-child::after {width: 0;}#sk-container-id-4 div.sk-dashed-wrapped {border: 1px dashed gray;margin: 0 0.4em 0.5em 0.4em;box-sizing: border-box;padding-bottom: 0.4em;background-color: white;}#sk-container-id-4 div.sk-label label {font-family: monospace;font-weight: bold;display: inline-block;line-height: 1.2em;}#sk-container-id-4 div.sk-label-container {text-align: center;}#sk-container-id-4 div.sk-container {/* jupyter's `normalize.less` sets `[hidden] { display: none; }` but bootstrap.min.css set `[hidden] { display: none !important; }` so we also need the `!important` here to be able to override the default hidden behavior on the sphinx rendered scikit-learn.org. See: https://github.com/scikit-learn/scikit-learn/issues/21755 */display: inline-block !important;position: relative;}#sk-container-id-4 div.sk-text-repr-fallback {display: none;}</style><div id=\"sk-container-id-4\" class=\"sk-top-container\"><div class=\"sk-text-repr-fallback\"><pre>KElbowVisualizer(ax=&lt;Axes: &gt;, estimator=KMeans(n_clusters=14), k=(2, 15))</pre><b>In a Jupyter environment, please rerun this cell to show the HTML representation or trust the notebook. <br />On GitHub, the HTML representation is unable to render, please try loading this page with nbviewer.org.</b></div><div class=\"sk-container\" hidden><div class=\"sk-item sk-dashed-wrapped\"><div class=\"sk-label-container\"><div class=\"sk-label sk-toggleable\"><input class=\"sk-toggleable__control sk-hidden--visually\" id=\"sk-estimator-id-10\" type=\"checkbox\" ><label for=\"sk-estimator-id-10\" class=\"sk-toggleable__label sk-toggleable__label-arrow\">KElbowVisualizer</label><div class=\"sk-toggleable__content\"><pre>KElbowVisualizer(ax=&lt;Axes: &gt;, estimator=KMeans(n_clusters=14), k=(2, 15))</pre></div></div></div><div class=\"sk-parallel\"><div class=\"sk-parallel-item\"><div class=\"sk-item\"><div class=\"sk-label-container\"><div class=\"sk-label sk-toggleable\"><input class=\"sk-toggleable__control sk-hidden--visually\" id=\"sk-estimator-id-11\" type=\"checkbox\" ><label for=\"sk-estimator-id-11\" class=\"sk-toggleable__label sk-toggleable__label-arrow\">estimator: KMeans</label><div class=\"sk-toggleable__content\"><pre>KMeans(n_clusters=14)</pre></div></div></div><div class=\"sk-serial\"><div class=\"sk-item\"><div class=\"sk-estimator sk-toggleable\"><input class=\"sk-toggleable__control sk-hidden--visually\" id=\"sk-estimator-id-12\" type=\"checkbox\" ><label for=\"sk-estimator-id-12\" class=\"sk-toggleable__label sk-toggleable__label-arrow\">KMeans</label><div class=\"sk-toggleable__content\"><pre>KMeans(n_clusters=14)</pre></div></div></div></div></div></div></div></div></div></div>"
            ],
            "text/plain": [
              "KElbowVisualizer(ax=<Axes: >, estimator=KMeans(n_clusters=14), k=(2, 15))"
            ]
          },
          "execution_count": 100,
          "metadata": {},
          "output_type": "execute_result"
        },
        {
          "data": {
            "image/png": "[encoded data removed]",
            "text/plain": [
              "<Figure size 800x550 with 2 Axes>"
            ]
          },
          "metadata": {},
          "output_type": "display_data"
        }
      ],
      "source": [
        "# Solution\n",
        "model.fit(X_train_cleaned)"
      ]
    },
    {
      "cell_type": "markdown",
      "metadata": {
        "id": "4z3CpwGbd4Fi"
      },
      "source": [
        "**[4.4]** Save the attribute `elbow_value_` from `model` and save it to a variable called `n_clusters`"
      ]
    },
    {
      "cell_type": "code",
      "execution_count": null,
      "metadata": {
        "id": "aNuLNsVyd4M2"
      },
      "outputs": [],
      "source": [
        "# Placeholder for student's code (1 line of Python code)\n",
        "# Task: Save the attribute elbow_value_ from model and save it to a variable called n_clusters"
      ]
    },
    {
      "cell_type": "code",
      "execution_count": null,
      "metadata": {
        "id": "Mpr1RQkLd4PS"
      },
      "outputs": [],
      "source": [
        "# Solution\n",
        "n_clusters = model.elbow_value_"
      ]
    },
    {
      "cell_type": "markdown",
      "metadata": {
        "id": "kRLIZeci7cfW"
      },
      "source": [
        "**[4.5]** Import `GaussianMixture` from `sklearn.mixture`"
      ]
    },
    {
      "cell_type": "code",
      "execution_count": null,
      "metadata": {
        "id": "QehpZw7n7coW"
      },
      "outputs": [],
      "source": [
        "# Placeholder for student's code (1 line of Python code)\n",
        "# Task: Import GaussianMixture from sklearn.mixture"
      ]
    },
    {
      "cell_type": "code",
      "execution_count": null,
      "metadata": {
        "id": "Z1Jt8WX57cqn"
      },
      "outputs": [],
      "source": [
        "# Solution\n",
        "from sklearn.mixture import GaussianMixture"
      ]
    },
    {
      "cell_type": "markdown",
      "metadata": {
        "id": "jRbJdVoJ7mDh"
      },
      "source": [
        "**[4.6]** Instantiate a `GaussianMixture` with `n_components` and `random_state` set and save it into a variable called `gmm`"
      ]
    },
    {
      "cell_type": "code",
      "execution_count": null,
      "metadata": {
        "id": "wXyRjZRT7mLA"
      },
      "outputs": [],
      "source": [
        "# Placeholder for student's code (1 line of Python code)\n",
        "# Task: Instantiate a GaussianMixture with n_components and random_state set and save it into a variable called gmm"
      ]
    },
    {
      "cell_type": "code",
      "execution_count": null,
      "metadata": {
        "id": "RIXBtBBL7mNa"
      },
      "outputs": [],
      "source": [
        "# Solution\n",
        "gmm = GaussianMixture(n_components=n_clusters, random_state=8)"
      ]
    },
    {
      "cell_type": "code",
      "execution_count": null,
      "metadata": {
        "id": "Dhz4UX0aHEh8",
        "outputId": "e136867b-3451-4537-a588-1269bc0f2e96"
      },
      "outputs": [
        {
          "data": {
            "text/html": [
              "<div>\n",
              "<style scoped>\n",
              "    .dataframe tbody tr th:only-of-type {\n",
              "        vertical-align: middle;\n",
              "    }\n",
              "\n",
              "    .dataframe tbody tr th {\n",
              "        vertical-align: top;\n",
              "    }\n",
              "\n",
              "    .dataframe thead th {\n",
              "        text-align: right;\n",
              "    }\n",
              "</style>\n",
              "<table border=\"1\" class=\"dataframe\">\n",
              "  <thead>\n",
              "    <tr style=\"text-align: right;\">\n",
              "      <th></th>\n",
              "      <th>Gender</th>\n",
              "      <th>Age</th>\n",
              "      <th>Annual Income (k$)</th>\n",
              "      <th>Spending Score (1-100)</th>\n",
              "    </tr>\n",
              "  </thead>\n",
              "  <tbody>\n",
              "    <tr>\n",
              "      <th>0</th>\n",
              "      <td>0.0</td>\n",
              "      <td>1.771416</td>\n",
              "      <td>-0.844380</td>\n",
              "      <td>-0.585705</td>\n",
              "    </tr>\n",
              "    <tr>\n",
              "      <th>1</th>\n",
              "      <td>0.0</td>\n",
              "      <td>-0.583546</td>\n",
              "      <td>-1.674190</td>\n",
              "      <td>-0.388498</td>\n",
              "    </tr>\n",
              "    <tr>\n",
              "      <th>2</th>\n",
              "      <td>0.0</td>\n",
              "      <td>0.386144</td>\n",
              "      <td>2.632916</td>\n",
              "      <td>-0.861795</td>\n",
              "    </tr>\n",
              "    <tr>\n",
              "      <th>3</th>\n",
              "      <td>0.0</td>\n",
              "      <td>-1.414709</td>\n",
              "      <td>0.143488</td>\n",
              "      <td>0.163682</td>\n",
              "    </tr>\n",
              "    <tr>\n",
              "      <th>4</th>\n",
              "      <td>1.0</td>\n",
              "      <td>-0.514282</td>\n",
              "      <td>0.617665</td>\n",
              "      <td>1.701898</td>\n",
              "    </tr>\n",
              "    <tr>\n",
              "      <th>...</th>\n",
              "      <td>...</td>\n",
              "      <td>...</td>\n",
              "      <td>...</td>\n",
              "      <td>...</td>\n",
              "    </tr>\n",
              "    <tr>\n",
              "      <th>155</th>\n",
              "      <td>0.0</td>\n",
              "      <td>0.316881</td>\n",
              "      <td>0.538635</td>\n",
              "      <td>-1.690066</td>\n",
              "    </tr>\n",
              "    <tr>\n",
              "      <th>156</th>\n",
              "      <td>0.0</td>\n",
              "      <td>-0.583546</td>\n",
              "      <td>0.499120</td>\n",
              "      <td>0.834186</td>\n",
              "    </tr>\n",
              "    <tr>\n",
              "      <th>157</th>\n",
              "      <td>0.0</td>\n",
              "      <td>-1.276181</td>\n",
              "      <td>0.103973</td>\n",
              "      <td>-0.309615</td>\n",
              "    </tr>\n",
              "    <tr>\n",
              "      <th>158</th>\n",
              "      <td>0.0</td>\n",
              "      <td>-1.276181</td>\n",
              "      <td>-0.212145</td>\n",
              "      <td>0.282006</td>\n",
              "    </tr>\n",
              "    <tr>\n",
              "      <th>159</th>\n",
              "      <td>0.0</td>\n",
              "      <td>-0.306491</td>\n",
              "      <td>2.395827</td>\n",
              "      <td>1.149718</td>\n",
              "    </tr>\n",
              "  </tbody>\n",
              "</table>\n",
              "<p>160 rows × 4 columns</p>\n",
              "</div>"
            ],
            "text/plain": [
              "     Gender       Age  Annual Income (k$)  Spending Score (1-100)\n",
              "0       0.0  1.771416           -0.844380               -0.585705\n",
              "1       0.0 -0.583546           -1.674190               -0.388498\n",
              "2       0.0  0.386144            2.632916               -0.861795\n",
              "3       0.0 -1.414709            0.143488                0.163682\n",
              "4       1.0 -0.514282            0.617665                1.701898\n",
              "..      ...       ...                 ...                     ...\n",
              "155     0.0  0.316881            0.538635               -1.690066\n",
              "156     0.0 -0.583546            0.499120                0.834186\n",
              "157     0.0 -1.276181            0.103973               -0.309615\n",
              "158     0.0 -1.276181           -0.212145                0.282006\n",
              "159     0.0 -0.306491            2.395827                1.149718\n",
              "\n",
              "[160 rows x 4 columns]"
            ]
          },
          "execution_count": 122,
          "metadata": {},
          "output_type": "execute_result"
        }
      ],
      "source": [
        "X_train_cleaned"
      ]
    },
    {
      "cell_type": "markdown",
      "metadata": {
        "id": "HRwnFNe174pv"
      },
      "source": [
        "**[4.7]** Fit `gmm` with `X_train_cleaned`"
      ]
    },
    {
      "cell_type": "code",
      "execution_count": null,
      "metadata": {
        "id": "OpY4vwua74x4"
      },
      "outputs": [],
      "source": [
        "# Placeholder for student's code (1 line of Python code)\n",
        "# Task: Fit gmm with X_train_cleaned"
      ]
    },
    {
      "cell_type": "code",
      "execution_count": null,
      "metadata": {
        "id": "4y7EbbrF740Q",
        "outputId": "2a0c3d77-a6b5-48d6-95e4-c1b4d2d29bbc"
      },
      "outputs": [
        {
          "data": {
            "text/html": [
              "<style>#sk-container-id-5 {color: black;}#sk-container-id-5 pre{padding: 0;}#sk-container-id-5 div.sk-toggleable {background-color: white;}#sk-container-id-5 label.sk-toggleable__label {cursor: pointer;display: block;width: 100%;margin-bottom: 0;padding: 0.3em;box-sizing: border-box;text-align: center;}#sk-container-id-5 label.sk-toggleable__label-arrow:before {content: \"▸\";float: left;margin-right: 0.25em;color: #696969;}#sk-container-id-5 label.sk-toggleable__label-arrow:hover:before {color: black;}#sk-container-id-5 div.sk-estimator:hover label.sk-toggleable__label-arrow:before {color: black;}#sk-container-id-5 div.sk-toggleable__content {max-height: 0;max-width: 0;overflow: hidden;text-align: left;background-color: #f0f8ff;}#sk-container-id-5 div.sk-toggleable__content pre {margin: 0.2em;color: black;border-radius: 0.25em;background-color: #f0f8ff;}#sk-container-id-5 input.sk-toggleable__control:checked~div.sk-toggleable__content {max-height: 200px;max-width: 100%;overflow: auto;}#sk-container-id-5 input.sk-toggleable__control:checked~label.sk-toggleable__label-arrow:before {content: \"▾\";}#sk-container-id-5 div.sk-estimator input.sk-toggleable__control:checked~label.sk-toggleable__label {background-color: #d4ebff;}#sk-container-id-5 div.sk-label input.sk-toggleable__control:checked~label.sk-toggleable__label {background-color: #d4ebff;}#sk-container-id-5 input.sk-hidden--visually {border: 0;clip: rect(1px 1px 1px 1px);clip: rect(1px, 1px, 1px, 1px);height: 1px;margin: -1px;overflow: hidden;padding: 0;position: absolute;width: 1px;}#sk-container-id-5 div.sk-estimator {font-family: monospace;background-color: #f0f8ff;border: 1px dotted black;border-radius: 0.25em;box-sizing: border-box;margin-bottom: 0.5em;}#sk-container-id-5 div.sk-estimator:hover {background-color: #d4ebff;}#sk-container-id-5 div.sk-parallel-item::after {content: \"\";width: 100%;border-bottom: 1px solid gray;flex-grow: 1;}#sk-container-id-5 div.sk-label:hover label.sk-toggleable__label {background-color: #d4ebff;}#sk-container-id-5 div.sk-serial::before {content: \"\";position: absolute;border-left: 1px solid gray;box-sizing: border-box;top: 0;bottom: 0;left: 50%;z-index: 0;}#sk-container-id-5 div.sk-serial {display: flex;flex-direction: column;align-items: center;background-color: white;padding-right: 0.2em;padding-left: 0.2em;position: relative;}#sk-container-id-5 div.sk-item {position: relative;z-index: 1;}#sk-container-id-5 div.sk-parallel {display: flex;align-items: stretch;justify-content: center;background-color: white;position: relative;}#sk-container-id-5 div.sk-item::before, #sk-container-id-5 div.sk-parallel-item::before {content: \"\";position: absolute;border-left: 1px solid gray;box-sizing: border-box;top: 0;bottom: 0;left: 50%;z-index: -1;}#sk-container-id-5 div.sk-parallel-item {display: flex;flex-direction: column;z-index: 1;position: relative;background-color: white;}#sk-container-id-5 div.sk-parallel-item:first-child::after {align-self: flex-end;width: 50%;}#sk-container-id-5 div.sk-parallel-item:last-child::after {align-self: flex-start;width: 50%;}#sk-container-id-5 div.sk-parallel-item:only-child::after {width: 0;}#sk-container-id-5 div.sk-dashed-wrapped {border: 1px dashed gray;margin: 0 0.4em 0.5em 0.4em;box-sizing: border-box;padding-bottom: 0.4em;background-color: white;}#sk-container-id-5 div.sk-label label {font-family: monospace;font-weight: bold;display: inline-block;line-height: 1.2em;}#sk-container-id-5 div.sk-label-container {text-align: center;}#sk-container-id-5 div.sk-container {/* jupyter's `normalize.less` sets `[hidden] { display: none; }` but bootstrap.min.css set `[hidden] { display: none !important; }` so we also need the `!important` here to be able to override the default hidden behavior on the sphinx rendered scikit-learn.org. See: https://github.com/scikit-learn/scikit-learn/issues/21755 */display: inline-block !important;position: relative;}#sk-container-id-5 div.sk-text-repr-fallback {display: none;}</style><div id=\"sk-container-id-5\" class=\"sk-top-container\"><div class=\"sk-text-repr-fallback\"><pre>GaussianMixture(n_components=6, random_state=8)</pre><b>In a Jupyter environment, please rerun this cell to show the HTML representation or trust the notebook. <br />On GitHub, the HTML representation is unable to render, please try loading this page with nbviewer.org.</b></div><div class=\"sk-container\" hidden><div class=\"sk-item\"><div class=\"sk-estimator sk-toggleable\"><input class=\"sk-toggleable__control sk-hidden--visually\" id=\"sk-estimator-id-13\" type=\"checkbox\" checked><label for=\"sk-estimator-id-13\" class=\"sk-toggleable__label sk-toggleable__label-arrow\">GaussianMixture</label><div class=\"sk-toggleable__content\"><pre>GaussianMixture(n_components=6, random_state=8)</pre></div></div></div></div></div>"
            ],
            "text/plain": [
              "GaussianMixture(n_components=6, random_state=8)"
            ]
          },
          "execution_count": 105,
          "metadata": {},
          "output_type": "execute_result"
        }
      ],
      "source": [
        "# Solution\n",
        "gmm.fit(X_train_cleaned)"
      ]
    },
    {
      "cell_type": "markdown",
      "metadata": {
        "id": "l3xoUAii8CcO"
      },
      "source": [
        "**[4.8]** Make predictions on `X_train_cleaned`"
      ]
    },
    {
      "cell_type": "code",
      "execution_count": null,
      "metadata": {
        "id": "dG2gThCN8ClE"
      },
      "outputs": [],
      "source": [
        "# Placeholder for student's code (1 line of Python code)\n",
        "# Task: Make predictions on X_train_cleaned"
      ]
    },
    {
      "cell_type": "code",
      "execution_count": null,
      "metadata": {
        "id": "NsZwiBHX8Cy6",
        "outputId": "73df918d-4617-4d2f-de58-0ed2aa1e0ab0"
      },
      "outputs": [
        {
          "data": {
            "text/plain": [
              "array([4, 4, 3, 0, 5, 2, 5, 0, 1, 1, 5, 1, 1, 4, 1, 4, 1, 5, 4, 5, 5, 0,\n",
              "       1, 3, 5, 1, 0, 0, 1, 3, 5, 5, 0, 2, 2, 0, 1, 4, 0, 1, 4, 4, 5, 1,\n",
              "       1, 3, 2, 1, 3, 2, 4, 1, 1, 0, 0, 3, 5, 2, 5, 1, 3, 1, 1, 5, 2, 0,\n",
              "       0, 5, 5, 2, 3, 4, 4, 3, 0, 3, 3, 3, 3, 1, 1, 1, 1, 0, 1, 4, 5, 3,\n",
              "       3, 2, 1, 2, 1, 0, 3, 5, 1, 1, 1, 4, 3, 2, 3, 3, 0, 5, 4, 4, 5, 1,\n",
              "       3, 0, 4, 2, 4, 2, 1, 1, 0, 2, 1, 1, 5, 3, 3, 1, 3, 5, 5, 1, 1, 0,\n",
              "       2, 5, 1, 4, 4, 1, 1, 1, 5, 0, 5, 2, 1, 5, 0, 5, 1, 1, 1, 0, 5, 1,\n",
              "       1, 3, 5, 0, 0, 5], dtype=int64)"
            ]
          },
          "execution_count": 106,
          "metadata": {},
          "output_type": "execute_result"
        }
      ],
      "source": [
        "# Solution\n",
        "gmm.predict(X_train_cleaned)"
      ]
    },
    {
      "cell_type": "markdown",
      "metadata": {
        "id": "ixxwvyeU8QpC"
      },
      "source": [
        "**[4.9]** Transform the first observation of `X_train_cleaned` into a dataframe and call it `obs`"
      ]
    },
    {
      "cell_type": "code",
      "execution_count": null,
      "metadata": {
        "id": "9HLMMGHP8Qw8"
      },
      "outputs": [],
      "source": [
        "# Placeholder for student's code (1 line of Python code)\n",
        "# Task: Transform the first observation of X_train_cleaned into a dataframe and call it obs"
      ]
    },
    {
      "cell_type": "code",
      "execution_count": null,
      "metadata": {
        "id": "5hk8wRzR8Qzx"
      },
      "outputs": [],
      "source": [
        "# Solution\n",
        "obs = pd.DataFrame(X_train_cleaned.iloc[0]).transpose()"
      ]
    },
    {
      "cell_type": "markdown",
      "metadata": {
        "id": "dHzwCEUW8ydJ"
      },
      "source": [
        "**[4.10]** Make prediction on `obs`"
      ]
    },
    {
      "cell_type": "code",
      "execution_count": null,
      "metadata": {
        "id": "2xMKkhMP8ykp"
      },
      "outputs": [],
      "source": [
        "# Placeholder for student's code (1 line of Python code)\n",
        "# Task: Make prediction on obs"
      ]
    },
    {
      "cell_type": "code",
      "execution_count": null,
      "metadata": {
        "id": "ZIY8ZuJZ8ymx",
        "outputId": "4138850a-6104-4f4a-9ec4-992cae9f9f50"
      },
      "outputs": [
        {
          "data": {
            "text/plain": [
              "array([4], dtype=int64)"
            ]
          },
          "execution_count": 108,
          "metadata": {},
          "output_type": "execute_result"
        }
      ],
      "source": [
        "# Solution\n",
        "gmm.predict(obs)"
      ]
    },
    {
      "cell_type": "markdown",
      "metadata": {
        "id": "JUEbyrm2ZzhL"
      },
      "source": [
        "### 5. Build Pipeline"
      ]
    },
    {
      "cell_type": "markdown",
      "metadata": {
        "id": "faMubeDzZzuX"
      },
      "source": [
        "**[5.1]** Import `Pipeline` from `sklearn.pipeline`"
      ]
    },
    {
      "cell_type": "code",
      "execution_count": null,
      "metadata": {
        "id": "KSrYPUCPZz1u"
      },
      "outputs": [],
      "source": [
        "# Placeholder for student's code (1 line of Python code)\n",
        "# Task: Import Pipeline from sklearn.pipeline"
      ]
    },
    {
      "cell_type": "code",
      "execution_count": null,
      "metadata": {
        "id": "vBSoR7LTZz3-"
      },
      "outputs": [],
      "source": [
        "# Solution:\n",
        "from sklearn.pipeline import Pipeline"
      ]
    },
    {
      "cell_type": "markdown",
      "metadata": {
        "id": "HKBNkwgmgVPQ"
      },
      "source": [
        "**[5.2]** Create a `Pipeline` called `num_transformer` with one step that contains `StandardScaler`"
      ]
    },
    {
      "cell_type": "code",
      "execution_count": null,
      "metadata": {
        "id": "2ohrllnggVWA"
      },
      "outputs": [],
      "source": [
        "# Placeholder for student's code (multiple lines of Python code)\n",
        "# Task: Create a Pipeline called num_transformer with one step that contains StandardScaler"
      ]
    },
    {
      "cell_type": "code",
      "execution_count": null,
      "metadata": {
        "id": "5lna_U35gVYR"
      },
      "outputs": [],
      "source": [
        "# Solution:\n",
        "num_transformer = Pipeline(\n",
        "    steps=[\n",
        "        ('scaler', StandardScaler())\n",
        "    ]\n",
        ")"
      ]
    },
    {
      "cell_type": "markdown",
      "metadata": {
        "id": "ORcJNo4ygaRa"
      },
      "source": [
        "**[5.3]** Create a `Pipeline` called `cat_transformer` with one step that contains `OneHotEncoder`"
      ]
    },
    {
      "cell_type": "code",
      "execution_count": null,
      "metadata": {
        "id": "QgVyt-4egaXE"
      },
      "outputs": [],
      "source": [
        "# Placeholder for student's code (multiple lines of Python code)\n",
        "# Task: Create a Pipeline called cat_transformer with one step that contains OneHotEncoder"
      ]
    },
    {
      "cell_type": "code",
      "execution_count": null,
      "metadata": {
        "id": "QkXUqKMcgaZN"
      },
      "outputs": [],
      "source": [
        "# Solution:\n",
        "cat_transformer = Pipeline(\n",
        "    steps=[\n",
        "        ('one_hot_encoder', OneHotEncoder(sparse=False, drop='first'))\n",
        "    ]\n",
        ")"
      ]
    },
    {
      "cell_type": "markdown",
      "metadata": {
        "id": "ekaUYYjqgfcF"
      },
      "source": [
        "**[5.4]** Import `ColumnTransformer` from `sklearn.compose`"
      ]
    },
    {
      "cell_type": "code",
      "execution_count": null,
      "metadata": {
        "id": "hSzb5ZsYgfhf"
      },
      "outputs": [],
      "source": [
        "# Placeholder for student's code (1 line of Python code)\n",
        "# Task: Import ColumnTransformer from sklearn.compose"
      ]
    },
    {
      "cell_type": "code",
      "execution_count": null,
      "metadata": {
        "id": "h8Jmfhk0MQ0i"
      },
      "outputs": [],
      "source": [
        "# Solution:\n",
        "from sklearn.compose import ColumnTransformer"
      ]
    },
    {
      "cell_type": "markdown",
      "metadata": {
        "id": "JE8fVHin92-6"
      },
      "source": [
        "**[5.5]** Create a `ColumnTransformer` called `preprocessor` with 2 steps containing `num_transformer` and `cat_transformer` that will be applied respectively to `num_cols` and `cat_cols`"
      ]
    },
    {
      "cell_type": "code",
      "execution_count": null,
      "metadata": {
        "id": "qAJZbmb-93Ge"
      },
      "outputs": [],
      "source": [
        "# Placeholder for student's code (multiple lines of Python code)\n",
        "# Task: Create a ColumnTransformer called preprocessor with 2 steps containing num_transformer and cat_transformer that will be applied respectively to num_cols and cat_cols"
      ]
    },
    {
      "cell_type": "code",
      "execution_count": null,
      "metadata": {
        "id": "oludTfN193I-"
      },
      "outputs": [],
      "source": [
        "# Solution:\n",
        "preprocessor = ColumnTransformer(\n",
        "    transformers=[\n",
        "        ('num_cols', num_transformer, num_cols),\n",
        "        ('cat_cols', cat_transformer, cat_cols)\n",
        "    ]\n",
        ")"
      ]
    },
    {
      "cell_type": "markdown",
      "metadata": {
        "id": "4sxqDnYJ_CxY"
      },
      "source": [
        "**[5.6]** Create a `Pipeline` called `gm_pipe` that contains 2 steps `preprocessor` and another that instantiate a GaussianMixture with same parameters as previously"
      ]
    },
    {
      "cell_type": "code",
      "execution_count": null,
      "metadata": {
        "id": "PhSo9x4U_C7v"
      },
      "outputs": [],
      "source": [
        "# Placeholder for student's code (multiple lines of Python code)\n",
        "# Task: Create a Pipeline called gm_pipe that contains 2 steps preprocessor and another that instantiate a GaussianMixture with same parameters as previously"
      ]
    },
    {
      "cell_type": "code",
      "execution_count": null,
      "metadata": {
        "id": "GUxr7KPY_C-y"
      },
      "outputs": [],
      "source": [
        "# Solution:\n",
        "gmm_pipe = Pipeline(\n",
        "    steps=[\n",
        "        ('preprocessor', preprocessor),\n",
        "        ('clustering', GaussianMixture(n_components=6, random_state=8))\n",
        "    ]\n",
        ")"
      ]
    },
    {
      "cell_type": "markdown",
      "metadata": {
        "id": "_nXfK0H-_1aM"
      },
      "source": [
        "**[5.7]** Fit `gmm_pipe` with `X_train`"
      ]
    },
    {
      "cell_type": "code",
      "execution_count": null,
      "metadata": {
        "id": "kHRtlTEE_1jm"
      },
      "outputs": [],
      "source": [
        "# Placeholder for student's code (1 line of Python code)\n",
        "# Task: Fit gmm_pipe with X_train"
      ]
    },
    {
      "cell_type": "code",
      "execution_count": null,
      "metadata": {
        "id": "HjsdSLle_1mb",
        "outputId": "8c7dd6e5-abfc-4ea1-a9f9-a7d4fc37eb46"
      },
      "outputs": [
        {
          "data": {
            "text/html": [
              "<style>#sk-container-id-6 {color: black;}#sk-container-id-6 pre{padding: 0;}#sk-container-id-6 div.sk-toggleable {background-color: white;}#sk-container-id-6 label.sk-toggleable__label {cursor: pointer;display: block;width: 100%;margin-bottom: 0;padding: 0.3em;box-sizing: border-box;text-align: center;}#sk-container-id-6 label.sk-toggleable__label-arrow:before {content: \"▸\";float: left;margin-right: 0.25em;color: #696969;}#sk-container-id-6 label.sk-toggleable__label-arrow:hover:before {color: black;}#sk-container-id-6 div.sk-estimator:hover label.sk-toggleable__label-arrow:before {color: black;}#sk-container-id-6 div.sk-toggleable__content {max-height: 0;max-width: 0;overflow: hidden;text-align: left;background-color: #f0f8ff;}#sk-container-id-6 div.sk-toggleable__content pre {margin: 0.2em;color: black;border-radius: 0.25em;background-color: #f0f8ff;}#sk-container-id-6 input.sk-toggleable__control:checked~div.sk-toggleable__content {max-height: 200px;max-width: 100%;overflow: auto;}#sk-container-id-6 input.sk-toggleable__control:checked~label.sk-toggleable__label-arrow:before {content: \"▾\";}#sk-container-id-6 div.sk-estimator input.sk-toggleable__control:checked~label.sk-toggleable__label {background-color: #d4ebff;}#sk-container-id-6 div.sk-label input.sk-toggleable__control:checked~label.sk-toggleable__label {background-color: #d4ebff;}#sk-container-id-6 input.sk-hidden--visually {border: 0;clip: rect(1px 1px 1px 1px);clip: rect(1px, 1px, 1px, 1px);height: 1px;margin: -1px;overflow: hidden;padding: 0;position: absolute;width: 1px;}#sk-container-id-6 div.sk-estimator {font-family: monospace;background-color: #f0f8ff;border: 1px dotted black;border-radius: 0.25em;box-sizing: border-box;margin-bottom: 0.5em;}#sk-container-id-6 div.sk-estimator:hover {background-color: #d4ebff;}#sk-container-id-6 div.sk-parallel-item::after {content: \"\";width: 100%;border-bottom: 1px solid gray;flex-grow: 1;}#sk-container-id-6 div.sk-label:hover label.sk-toggleable__label {background-color: #d4ebff;}#sk-container-id-6 div.sk-serial::before {content: \"\";position: absolute;border-left: 1px solid gray;box-sizing: border-box;top: 0;bottom: 0;left: 50%;z-index: 0;}#sk-container-id-6 div.sk-serial {display: flex;flex-direction: column;align-items: center;background-color: white;padding-right: 0.2em;padding-left: 0.2em;position: relative;}#sk-container-id-6 div.sk-item {position: relative;z-index: 1;}#sk-container-id-6 div.sk-parallel {display: flex;align-items: stretch;justify-content: center;background-color: white;position: relative;}#sk-container-id-6 div.sk-item::before, #sk-container-id-6 div.sk-parallel-item::before {content: \"\";position: absolute;border-left: 1px solid gray;box-sizing: border-box;top: 0;bottom: 0;left: 50%;z-index: -1;}#sk-container-id-6 div.sk-parallel-item {display: flex;flex-direction: column;z-index: 1;position: relative;background-color: white;}#sk-container-id-6 div.sk-parallel-item:first-child::after {align-self: flex-end;width: 50%;}#sk-container-id-6 div.sk-parallel-item:last-child::after {align-self: flex-start;width: 50%;}#sk-container-id-6 div.sk-parallel-item:only-child::after {width: 0;}#sk-container-id-6 div.sk-dashed-wrapped {border: 1px dashed gray;margin: 0 0.4em 0.5em 0.4em;box-sizing: border-box;padding-bottom: 0.4em;background-color: white;}#sk-container-id-6 div.sk-label label {font-family: monospace;font-weight: bold;display: inline-block;line-height: 1.2em;}#sk-container-id-6 div.sk-label-container {text-align: center;}#sk-container-id-6 div.sk-container {/* jupyter's `normalize.less` sets `[hidden] { display: none; }` but bootstrap.min.css set `[hidden] { display: none !important; }` so we also need the `!important` here to be able to override the default hidden behavior on the sphinx rendered scikit-learn.org. See: https://github.com/scikit-learn/scikit-learn/issues/21755 */display: inline-block !important;position: relative;}#sk-container-id-6 div.sk-text-repr-fallback {display: none;}</style><div id=\"sk-container-id-6\" class=\"sk-top-container\"><div class=\"sk-text-repr-fallback\"><pre>Pipeline(steps=[(&#x27;preprocessor&#x27;,\n",
              "                 ColumnTransformer(transformers=[(&#x27;num_cols&#x27;,\n",
              "                                                  Pipeline(steps=[(&#x27;scaler&#x27;,\n",
              "                                                                   StandardScaler())]),\n",
              "                                                  [&#x27;Age&#x27;, &#x27;Annual Income (k$)&#x27;,\n",
              "                                                   &#x27;Spending Score (1-100)&#x27;]),\n",
              "                                                 (&#x27;cat_cols&#x27;,\n",
              "                                                  Pipeline(steps=[(&#x27;one_hot_encoder&#x27;,\n",
              "                                                                   OneHotEncoder(drop=&#x27;first&#x27;,\n",
              "                                                                                 sparse=False))]),\n",
              "                                                  [&#x27;Gender&#x27;])])),\n",
              "                (&#x27;clustering&#x27;,\n",
              "                 GaussianMixture(n_components=6, random_state=8))])</pre><b>In a Jupyter environment, please rerun this cell to show the HTML representation or trust the notebook. <br />On GitHub, the HTML representation is unable to render, please try loading this page with nbviewer.org.</b></div><div class=\"sk-container\" hidden><div class=\"sk-item sk-dashed-wrapped\"><div class=\"sk-label-container\"><div class=\"sk-label sk-toggleable\"><input class=\"sk-toggleable__control sk-hidden--visually\" id=\"sk-estimator-id-14\" type=\"checkbox\" ><label for=\"sk-estimator-id-14\" class=\"sk-toggleable__label sk-toggleable__label-arrow\">Pipeline</label><div class=\"sk-toggleable__content\"><pre>Pipeline(steps=[(&#x27;preprocessor&#x27;,\n",
              "                 ColumnTransformer(transformers=[(&#x27;num_cols&#x27;,\n",
              "                                                  Pipeline(steps=[(&#x27;scaler&#x27;,\n",
              "                                                                   StandardScaler())]),\n",
              "                                                  [&#x27;Age&#x27;, &#x27;Annual Income (k$)&#x27;,\n",
              "                                                   &#x27;Spending Score (1-100)&#x27;]),\n",
              "                                                 (&#x27;cat_cols&#x27;,\n",
              "                                                  Pipeline(steps=[(&#x27;one_hot_encoder&#x27;,\n",
              "                                                                   OneHotEncoder(drop=&#x27;first&#x27;,\n",
              "                                                                                 sparse=False))]),\n",
              "                                                  [&#x27;Gender&#x27;])])),\n",
              "                (&#x27;clustering&#x27;,\n",
              "                 GaussianMixture(n_components=6, random_state=8))])</pre></div></div></div><div class=\"sk-serial\"><div class=\"sk-item sk-dashed-wrapped\"><div class=\"sk-label-container\"><div class=\"sk-label sk-toggleable\"><input class=\"sk-toggleable__control sk-hidden--visually\" id=\"sk-estimator-id-15\" type=\"checkbox\" ><label for=\"sk-estimator-id-15\" class=\"sk-toggleable__label sk-toggleable__label-arrow\">preprocessor: ColumnTransformer</label><div class=\"sk-toggleable__content\"><pre>ColumnTransformer(transformers=[(&#x27;num_cols&#x27;,\n",
              "                                 Pipeline(steps=[(&#x27;scaler&#x27;, StandardScaler())]),\n",
              "                                 [&#x27;Age&#x27;, &#x27;Annual Income (k$)&#x27;,\n",
              "                                  &#x27;Spending Score (1-100)&#x27;]),\n",
              "                                (&#x27;cat_cols&#x27;,\n",
              "                                 Pipeline(steps=[(&#x27;one_hot_encoder&#x27;,\n",
              "                                                  OneHotEncoder(drop=&#x27;first&#x27;,\n",
              "                                                                sparse=False))]),\n",
              "                                 [&#x27;Gender&#x27;])])</pre></div></div></div><div class=\"sk-parallel\"><div class=\"sk-parallel-item\"><div class=\"sk-item\"><div class=\"sk-label-container\"><div class=\"sk-label sk-toggleable\"><input class=\"sk-toggleable__control sk-hidden--visually\" id=\"sk-estimator-id-16\" type=\"checkbox\" ><label for=\"sk-estimator-id-16\" class=\"sk-toggleable__label sk-toggleable__label-arrow\">num_cols</label><div class=\"sk-toggleable__content\"><pre>[&#x27;Age&#x27;, &#x27;Annual Income (k$)&#x27;, &#x27;Spending Score (1-100)&#x27;]</pre></div></div></div><div class=\"sk-serial\"><div class=\"sk-item\"><div class=\"sk-serial\"><div class=\"sk-item\"><div class=\"sk-estimator sk-toggleable\"><input class=\"sk-toggleable__control sk-hidden--visually\" id=\"sk-estimator-id-17\" type=\"checkbox\" ><label for=\"sk-estimator-id-17\" class=\"sk-toggleable__label sk-toggleable__label-arrow\">StandardScaler</label><div class=\"sk-toggleable__content\"><pre>StandardScaler()</pre></div></div></div></div></div></div></div></div><div class=\"sk-parallel-item\"><div class=\"sk-item\"><div class=\"sk-label-container\"><div class=\"sk-label sk-toggleable\"><input class=\"sk-toggleable__control sk-hidden--visually\" id=\"sk-estimator-id-18\" type=\"checkbox\" ><label for=\"sk-estimator-id-18\" class=\"sk-toggleable__label sk-toggleable__label-arrow\">cat_cols</label><div class=\"sk-toggleable__content\"><pre>[&#x27;Gender&#x27;]</pre></div></div></div><div class=\"sk-serial\"><div class=\"sk-item\"><div class=\"sk-serial\"><div class=\"sk-item\"><div class=\"sk-estimator sk-toggleable\"><input class=\"sk-toggleable__control sk-hidden--visually\" id=\"sk-estimator-id-19\" type=\"checkbox\" ><label for=\"sk-estimator-id-19\" class=\"sk-toggleable__label sk-toggleable__label-arrow\">OneHotEncoder</label><div class=\"sk-toggleable__content\"><pre>OneHotEncoder(drop=&#x27;first&#x27;, sparse=False)</pre></div></div></div></div></div></div></div></div></div></div><div class=\"sk-item\"><div class=\"sk-estimator sk-toggleable\"><input class=\"sk-toggleable__control sk-hidden--visually\" id=\"sk-estimator-id-20\" type=\"checkbox\" ><label for=\"sk-estimator-id-20\" class=\"sk-toggleable__label sk-toggleable__label-arrow\">GaussianMixture</label><div class=\"sk-toggleable__content\"><pre>GaussianMixture(n_components=6, random_state=8)</pre></div></div></div></div></div></div></div>"
            ],
            "text/plain": [
              "Pipeline(steps=[('preprocessor',\n",
              "                 ColumnTransformer(transformers=[('num_cols',\n",
              "                                                  Pipeline(steps=[('scaler',\n",
              "                                                                   StandardScaler())]),\n",
              "                                                  ['Age', 'Annual Income (k$)',\n",
              "                                                   'Spending Score (1-100)']),\n",
              "                                                 ('cat_cols',\n",
              "                                                  Pipeline(steps=[('one_hot_encoder',\n",
              "                                                                   OneHotEncoder(drop='first',\n",
              "                                                                                 sparse=False))]),\n",
              "                                                  ['Gender'])])),\n",
              "                ('clustering',\n",
              "                 GaussianMixture(n_components=6, random_state=8))])"
            ]
          },
          "execution_count": 117,
          "metadata": {},
          "output_type": "execute_result"
        }
      ],
      "source": [
        "# Solution:\n",
        "gmm_pipe.fit(X_train)"
      ]
    },
    {
      "cell_type": "markdown",
      "metadata": {
        "id": "R7OmK12vAD1O"
      },
      "source": [
        "**[5.8]** Make predictions on X_train"
      ]
    },
    {
      "cell_type": "code",
      "execution_count": null,
      "metadata": {
        "id": "ecKYasO3AD7L"
      },
      "outputs": [],
      "source": [
        "# Placeholder for student's code (1 line of Python code)\n",
        "# Task: Make predictions on X_train"
      ]
    },
    {
      "cell_type": "code",
      "execution_count": null,
      "metadata": {
        "id": "O7IyO0ugAD9d",
        "outputId": "2c68b2fb-1c16-4a4e-e50e-7ca1cff92fbb"
      },
      "outputs": [
        {
          "data": {
            "text/plain": [
              "array([4, 4, 3, 0, 5, 2, 5, 0, 1, 1, 5, 1, 1, 4, 1, 4, 1, 5, 4, 5, 5, 0,\n",
              "       1, 3, 5, 1, 0, 0, 1, 3, 5, 5, 0, 2, 2, 0, 1, 4, 0, 1, 4, 4, 5, 1,\n",
              "       1, 3, 2, 1, 3, 2, 4, 1, 1, 0, 0, 3, 5, 2, 5, 1, 3, 1, 1, 5, 2, 0,\n",
              "       0, 5, 5, 2, 3, 4, 4, 3, 0, 3, 3, 3, 3, 1, 1, 1, 1, 0, 1, 4, 5, 3,\n",
              "       3, 2, 1, 2, 1, 0, 3, 5, 1, 1, 1, 4, 3, 2, 3, 3, 0, 5, 4, 4, 5, 1,\n",
              "       3, 0, 4, 2, 4, 2, 1, 1, 0, 2, 1, 1, 5, 3, 3, 1, 3, 5, 5, 1, 1, 0,\n",
              "       2, 5, 1, 4, 4, 1, 1, 1, 5, 0, 5, 2, 1, 5, 0, 5, 1, 1, 1, 0, 5, 1,\n",
              "       1, 3, 5, 0, 0, 5], dtype=int64)"
            ]
          },
          "execution_count": 118,
          "metadata": {},
          "output_type": "execute_result"
        }
      ],
      "source": [
        "# Solution:\n",
        "gmm_pipe.predict(X_train)"
      ]
    },
    {
      "cell_type": "markdown",
      "metadata": {
        "id": "tLMMkp9XAGMf"
      },
      "source": [
        "**[5.9]** Transform the first observation of `X_train` into a dataframe, call it `obs` and make prediction on it"
      ]
    },
    {
      "cell_type": "code",
      "execution_count": null,
      "metadata": {
        "id": "HQm6McEwAGTS"
      },
      "outputs": [],
      "source": [
        "# Placeholder for student's code (2 lines of Python code)\n",
        "# Task: Transform the first observation of X_train into a dataframe, call it obs and make prediction on it"
      ]
    },
    {
      "cell_type": "code",
      "execution_count": null,
      "metadata": {
        "id": "DJTG4hvIddpv",
        "outputId": "3e6b4211-5b26-4599-f69e-87881e83424f"
      },
      "outputs": [
        {
          "data": {
            "text/plain": [
              "array([4], dtype=int64)"
            ]
          },
          "execution_count": 119,
          "metadata": {},
          "output_type": "execute_result"
        }
      ],
      "source": [
        "# Solution:\n",
        "obs = pd.DataFrame(X_train.iloc[0]).transpose()\n",
        "gmm_pipe.predict(obs)"
      ]
    },
    {
      "cell_type": "markdown",
      "metadata": {
        "id": "F_PB7F0zAGja"
      },
      "source": [
        "**[5.10]** Import `dump` from `joblib` package and save `gmm_pipe` into `models` folder"
      ]
    },
    {
      "cell_type": "code",
      "execution_count": null,
      "metadata": {
        "id": "orvi7ipgAGqC"
      },
      "outputs": [],
      "source": [
        "# Placeholder for student's code (2 lines of Python code)\n",
        "# Task: Import dump from joblib package and save gmm_pipe into models folder"
      ]
    },
    {
      "cell_type": "code",
      "execution_count": null,
      "metadata": {
        "id": "i-RBPfJqAGsB",
        "outputId": "300289e0-b9d5-4a6b-8125-e7e0c486a294"
      },
      "outputs": [
        {
          "data": {
            "text/plain": [
              "['model/gmm_pipeline.joblib']"
            ]
          },
          "execution_count": 121,
          "metadata": {},
          "output_type": "execute_result"
        }
      ],
      "source": [
        "# Solution:\n",
        "from joblib import dump\n",
        "\n",
        "dump(gmm_pipe,  'model/gmm_pipeline.joblib')"
      ]
    }
  ],
  "metadata": {
    "colab": {
      "provenance": []
    },
    "kernelspec": {
      "display_name": "Python 3 (ipykernel)",
      "language": "python",
      "name": "python3"
    },
    "language_info": {
      "codemirror_mode": {
        "name": "ipython",
        "version": 3
      },
      "file_extension": ".py",
      "mimetype": "text/x-python",
      "name": "python",
      "nbconvert_exporter": "python",
      "pygments_lexer": "ipython3",
      "version": "3.11.4"
    }
  },
  "nbformat": 4,
  "nbformat_minor": 0
}